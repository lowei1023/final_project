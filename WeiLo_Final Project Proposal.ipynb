{
 "cells": [
  {
   "cell_type": "markdown",
   "metadata": {},
   "source": [
    "## Final Project Proposal\n",
    "Ruoyu Chen, Wei Lo, Zhengnan Li"
   ]
  },
  {
   "cell_type": "markdown",
   "metadata": {},
   "source": [
    "## Introduction"
   ]
  },
  {
   "cell_type": "markdown",
   "metadata": {},
   "source": [
    "The issue of carbon dioxide (CO2) emissions is a significant global concern, particularly regarding its impact on climate change and the environment. The United States, as one of the world's top contributors to CO2 emissions, is a focal point for this research. We aim to investigate CO2 emissions in the USA at various levels, including emissions by state, their sources, and their connection to the country's economic performance, measured by the Gross Domestic Product (GDP).This study aims to provide insights into the patterns, factors, and potential implications of carbon emissions in the USA. By comparing this information with the country's economic growth, we hope to reveal the relationship between economic prosperity and environmental impact.\n"
   ]
  },
  {
   "cell_type": "markdown",
   "metadata": {},
   "source": [
    "## Research Questions"
   ]
  },
  {
   "cell_type": "markdown",
   "metadata": {},
   "source": [
    "<ol>\n",
    "<li> Research Question 1: What are the historical trends in carbon emissions in the USA across different sources of emission and in different states ? </li>\n",
    "<li> Research Question 2: What are the historical trends in carbon Coefficients by Product in the USA? </li>\n",
    "<li> Research Question 3: Are there any patterns or relationships in carbon emissions corresponding to GDP growth in the USA? </li>\n",
    "<ol> "
   ]
  },
  {
   "cell_type": "markdown",
   "metadata": {},
   "source": [
    "## Data to be Used"
   ]
  },
  {
   "cell_type": "markdown",
   "metadata": {},
   "source": [
    "To reach feasible answers to the above questions and paint a precise picture of the relationship between carbon emision and GDP, we will be using data from several sources in two different formats to meet the final project requirements.\n",
    "\n",
    "Data sources are as follows:\n",
    "\n",
    "<li> US Energy Information Administration (EIA) :The data we found is about emission. It has time, emission source, fuel and values. We’ll extract historical data on the emission value by this source:</li>\n",
    "\n",
    "https://www.eia.gov/opendata/\n",
    "\n",
    "\n",
    "<li> Bureau of Economic Analysis (BEA):\n",
    "Bureau of Economic Analysis (BEA) website : Data analysis in the economic domain will be conducted using information from the Bureau of Economic Analysis (BEA) website:.</li>\n",
    "\n",
    "https://www.bea.gov/data/gdp/gdp-state\n",
    "\n",
    "Integrating datasets from these sources will enable a holistic examination of the intricate relationship between economic indicators, energy consumption, and carbon emissions, providing a multifaceted perspective on the environmental impact of economic activities."
   ]
  },
  {
   "cell_type": "markdown",
   "metadata": {},
   "source": [
    "## Approach"
   ]
  },
  {
   "cell_type": "markdown",
   "metadata": {},
   "source": [
    "In order to address the research questions and find out the relationship between carbon emissions and economic performance, we planned to collect data from the API and csv. We will integrate and combine datasets from these sources to create a comprehensive dataset. This combined dataset will enable us to conduct an examination of the relationship between economic indicators, energy coefficient, and carbon emissions. By bringing together these datasets, we aim to provide a multifaceted perspective on the environmental impact of economic activities.\n",
    "\n",
    "Roles and Responsibilities:\n",
    "Our project team will consist of members with distinct roles and responsibilities:\n",
    "\n",
    "<li>Data Collection and Integration: Ruoyu Chen will be responsible for gathering and integrating data from the data sources and the Data cleaning and EDA.\n",
    "<li>Data Analysis: Wei Lo will be responsible for statistical analyses and draw insights from the integrated dataset.\n",
    "<li>Data Visualization: Zhengnan Li will be responsible for graphical representations to convey our findings effectively.\n",
    "\n",
    "In the meantime, all our members will take parts in all three roles and separate the tasks.\n"
   ]
  }
 ],
 "metadata": {
  "kernelspec": {
   "display_name": "Python 3",
   "language": "python",
   "name": "python3"
  },
  "language_info": {
   "codemirror_mode": {
    "name": "ipython",
    "version": 3
   },
   "file_extension": ".py",
   "mimetype": "text/x-python",
   "name": "python",
   "nbconvert_exporter": "python",
   "pygments_lexer": "ipython3",
   "version": "3.8.3"
  }
 },
 "nbformat": 4,
 "nbformat_minor": 4
}
